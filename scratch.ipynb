{
 "cells": [
  {
   "cell_type": "code",
   "execution_count": 5,
   "metadata": {},
   "outputs": [],
   "source": [
    "import os\n"
   ]
  },
  {
   "cell_type": "code",
   "execution_count": 6,
   "metadata": {},
   "outputs": [],
   "source": [
    "dataset_dir = '../datasets'\n",
    "dataset_name = 'D1'\n",
    "subdir_name = 'amazon'"
   ]
  },
  {
   "cell_type": "code",
   "execution_count": 7,
   "metadata": {},
   "outputs": [],
   "source": [
    "pcap_file = os.path.join(dataset_dir, dataset_name, subdir_name, 'amazon.pcap')\n",
    "\n",
    "with open(pcap_file, 'r', encoding='utf-8',\n",
    "            errors='ignore') as f:\n",
    "    corpus = f.readlines()"
   ]
  },
  {
   "cell_type": "code",
   "execution_count": 45,
   "metadata": {},
   "outputs": [],
   "source": [
    "import scapy\n",
    "from scapy.all import rdpcap, IP, TCP, UDP\n",
    "def bytes2bits(x):\n",
    "    return ''.join(f'{byte:08b}' for byte in x)\n",
    "def bits2bytes(x):\n",
    "    return bytes(int(x[i:i+8], 2) for i in range(0, len(x), 8))\n",
    "def mask(bits, start, end):\n",
    "    return bits[:start] + '0'*(end-start) + bits[end:]"
   ]
  },
  {
   "cell_type": "code",
   "execution_count": 9,
   "metadata": {},
   "outputs": [],
   "source": [
    "packets = [p for p in rdpcap(pcap_file)]"
   ]
  },
  {
   "cell_type": "code",
   "execution_count": 10,
   "metadata": {},
   "outputs": [],
   "source": [
    "packet = packets[0]"
   ]
  },
  {
   "cell_type": "code",
   "execution_count": 51,
   "metadata": {},
   "outputs": [],
   "source": [
    "def mask_ip_header(packet):\n",
    "    ip_header = bytes(packet[IP])\n",
    "    ip_header_bits = bytes2bits(ip_header)\n",
    "    header_length_bits = int(ip_header_bits[4:8],2)*32\n",
    "    ip_header_bits = ip_header_bits[:header_length_bits]\n",
    "\n",
    "    ip_header_bits = mask(ip_header_bits, 32, 48) # identification\n",
    "    ip_header_bits = mask(ip_header_bits, 80, 96) # checksum\n",
    "    ip_header_bits = mask(ip_header_bits, 96, 128) # src ip\n",
    "    ip_header_bits = mask(ip_header_bits, 128, 160) # dst ip\n",
    "    return ip_header_bits"
   ]
  },
  {
   "cell_type": "code",
   "execution_count": 52,
   "metadata": {},
   "outputs": [
    {
     "data": {
      "text/plain": [
       "'0100010100000000000000000011010000000000000000000100000000000000010000000000011000000000000000000000000000000000000000000000000000000000000000000000000000000000'"
      ]
     },
     "execution_count": 52,
     "metadata": {},
     "output_type": "execute_result"
    }
   ],
   "source": [
    "mask_ip_header(packet)"
   ]
  },
  {
   "cell_type": "code",
   "execution_count": 58,
   "metadata": {},
   "outputs": [],
   "source": [
    "def mask_tcpudp_header(packet):\n",
    "    if TCP in packet:\n",
    "        header = bytes(packet[TCP])\n",
    "        header_bits = bytes2bits(header)\n",
    "        header_length_bits = packet[TCP].dataofs * 32\n",
    "        header_bits = header_bits[:header_length_bits]\n",
    "    elif UDP in packet:\n",
    "        header = bytes(packet[UDP])\n",
    "        header_bits = bytes2bits(header)\n",
    "    else:\n",
    "        raise ValueError\n",
    "\n",
    "    header_bits = mask(header_bits, 0, 16) # src port\n",
    "    header_bits = mask(header_bits, 16, 32) # dst port\n",
    "    return header_bits"
   ]
  },
  {
   "cell_type": "code",
   "execution_count": 59,
   "metadata": {},
   "outputs": [
    {
     "data": {
      "text/plain": [
       "'0000000000000000000000000000000010110010010100000010011001011010000000000000000000000000000000001000000000000010001000000000000001000000110110000000000000000000000000100000010000000101101101000000000100000011000000110000001000000001000000010000010000000010'"
      ]
     },
     "execution_count": 59,
     "metadata": {},
     "output_type": "execute_result"
    }
   ],
   "source": [
    "mask_tcpudp_header(packet)"
   ]
  },
  {
   "cell_type": "code",
   "execution_count": 55,
   "metadata": {},
   "outputs": [
    {
     "data": {
      "text/plain": [
       "31668"
      ]
     },
     "execution_count": 55,
     "metadata": {},
     "output_type": "execute_result"
    }
   ],
   "source": [
    "int(tcp_header_bits[0:16],2)"
   ]
  },
  {
   "cell_type": "markdown",
   "metadata": {},
   "source": [
    "### masking TCP/UDP header"
   ]
  },
  {
   "cell_type": "code",
   "execution_count": 33,
   "metadata": {},
   "outputs": [
    {
     "data": {
      "text/plain": [
       "'01000101000000000000000000110100011101110000000101000000000000000100000000000110000010111001111111000000101010000000000101100101101011011100001001001000010101000111101110110100000000011011101110110010010100000010011001011010000000000000000000000000000000001000000000000010001000000000000001000000110110000000000000000000000000100000010000000101101101000000000100000011000000110000001000000001000000010000010000000010'"
      ]
     },
     "execution_count": 33,
     "metadata": {},
     "output_type": "execute_result"
    }
   ],
   "source": [
    "ip_header_bits"
   ]
  },
  {
   "cell_type": "code",
   "execution_count": 34,
   "metadata": {},
   "outputs": [
    {
     "data": {
      "text/plain": [
       "'01000101000000000000000000110100000000000000000001000000000000000100000000000110000000000000000000000000000000000000000000000000000000000000000000000000000000000111101110110100000000011011101110110010010100000010011001011010000000000000000000000000000000001000000000000010001000000000000001000000110110000000000000000000000000100000010000000101101101000000000100000011000000110000001000000001000000010000010000000010'"
      ]
     },
     "execution_count": 34,
     "metadata": {},
     "output_type": "execute_result"
    }
   ],
   "source": [
    "mask_ip_header(ip_header_bits)"
   ]
  },
  {
   "cell_type": "code",
   "execution_count": 37,
   "metadata": {},
   "outputs": [
    {
     "data": {
      "text/plain": [
       "416"
      ]
     },
     "execution_count": 37,
     "metadata": {},
     "output_type": "execute_result"
    }
   ],
   "source": [
    "len(ip_header_bits)"
   ]
  },
  {
   "cell_type": "markdown",
   "metadata": {},
   "source": [
    "# pcap to hdf5"
   ]
  },
  {
   "cell_type": "code",
   "execution_count": 3,
   "metadata": {},
   "outputs": [],
   "source": [
    "from pcapToHdf5 import pcap_to_hdf5\n",
    "import os"
   ]
  },
  {
   "cell_type": "code",
   "execution_count": 9,
   "metadata": {},
   "outputs": [],
   "source": [
    "dataset_dir = '../datasets'\n",
    "dataset_name = 'D1'\n",
    "subdir_name = 'amazon'"
   ]
  },
  {
   "cell_type": "code",
   "execution_count": 10,
   "metadata": {},
   "outputs": [],
   "source": [
    "pcap_file = os.path.join(dataset_dir, dataset_name, subdir_name, 'amazon.pcap')"
   ]
  },
  {
   "cell_type": "code",
   "execution_count": 11,
   "metadata": {},
   "outputs": [
    {
     "name": "stdout",
     "output_type": "stream",
     "text": [
      "Converted ../datasets/D1/amazon/amazon.pcap to test.hdf5 successfully.\n"
     ]
    }
   ],
   "source": [
    "pcap_to_hdf5(pcap_file, 'test.hdf5')"
   ]
  },
  {
   "cell_type": "markdown",
   "metadata": {},
   "source": [
    "# how to use hdf5"
   ]
  },
  {
   "cell_type": "code",
   "execution_count": 1,
   "metadata": {},
   "outputs": [],
   "source": [
    "filename = 'test.hdf5'"
   ]
  },
  {
   "cell_type": "code",
   "execution_count": null,
   "metadata": {},
   "outputs": [],
   "source": [
    "import h5py\n",
    "from mpi4py import MPI\n",
    "class H5Iter:\n",
    "    def __init__(self, st=0):\n",
    "        self.corpus = []\n",
    "        self.st = st\n",
    "        \n",
    "    def __call__(self, name, h5obj):\n",
    "        if hasattr(h5obj, 'dtype') and name.endswith('/X'):\n",
    "            self.corpus.append([name.split('/')[0], h5obj[:]])\n",
    "            # if len(self.corpus) % 200000 == 0:\n",
    "            #     p_log(f'{time() - self.st:.4f}s with {len(self.corpus)} items.')\n"
   ]
  },
  {
   "cell_type": "code",
   "execution_count": null,
   "metadata": {},
   "outputs": [
    {
     "ename": "ValueError",
     "evalue": "h5py was built without MPI support, can't use mpio driver",
     "output_type": "error",
     "traceback": [
      "\u001b[0;31m---------------------------------------------------------------------------\u001b[0m",
      "\u001b[0;31mValueError\u001b[0m                                Traceback (most recent call last)",
      "Cell \u001b[0;32mIn[10], line 2\u001b[0m\n\u001b[1;32m      1\u001b[0m s_t \u001b[38;5;241m=\u001b[39m time()\n\u001b[0;32m----> 2\u001b[0m f_h5 \u001b[38;5;241m=\u001b[39m h5py\u001b[38;5;241m.\u001b[39mFile(os\u001b[38;5;241m.\u001b[39mpath\u001b[38;5;241m.\u001b[39mjoin(filename), \u001b[38;5;124m'\u001b[39m\u001b[38;5;124mr\u001b[39m\u001b[38;5;124m'\u001b[39m,\n\u001b[1;32m      3\u001b[0m                     driver\u001b[38;5;241m=\u001b[39m\u001b[38;5;124m'\u001b[39m\u001b[38;5;124mmpio\u001b[39m\u001b[38;5;124m'\u001b[39m, comm\u001b[38;5;241m=\u001b[39mMPI\u001b[38;5;241m.\u001b[39mCOMM_WORLD)\n\u001b[1;32m      4\u001b[0m h5iter \u001b[38;5;241m=\u001b[39m H5Iter(s_t)\n\u001b[1;32m      5\u001b[0m f_h5\u001b[38;5;241m.\u001b[39mvisititems(h5iter)\n",
      "File \u001b[0;32m~/anaconda3/lib/python3.11/site-packages/h5py/_hl/files.py:525\u001b[0m, in \u001b[0;36mFile.__init__\u001b[0;34m(self, name, mode, driver, libver, userblock_size, swmr, rdcc_nslots, rdcc_nbytes, rdcc_w0, track_order, fs_strategy, fs_persist, fs_threshold, fs_page_size, page_buf_size, min_meta_keep, min_raw_keep, locking, alignment_threshold, alignment_interval, **kwds)\u001b[0m\n\u001b[1;32m    518\u001b[0m     warn(\n\u001b[1;32m    519\u001b[0m         \u001b[38;5;124m\"\u001b[39m\u001b[38;5;124mswmr=True only affects read (\u001b[39m\u001b[38;5;124m'\u001b[39m\u001b[38;5;124mr\u001b[39m\u001b[38;5;124m'\u001b[39m\u001b[38;5;124m) mode. For swmr write \u001b[39m\u001b[38;5;124m\"\u001b[39m\n\u001b[1;32m    520\u001b[0m         \u001b[38;5;124m\"\u001b[39m\u001b[38;5;124mmode, set f.swmr_mode = True after opening the file.\u001b[39m\u001b[38;5;124m\"\u001b[39m,\n\u001b[1;32m    521\u001b[0m         stacklevel\u001b[38;5;241m=\u001b[39m\u001b[38;5;241m2\u001b[39m,\n\u001b[1;32m    522\u001b[0m     )\n\u001b[1;32m    524\u001b[0m \u001b[38;5;28;01mwith\u001b[39;00m phil:\n\u001b[0;32m--> 525\u001b[0m     fapl \u001b[38;5;241m=\u001b[39m make_fapl(driver, libver, rdcc_nslots, rdcc_nbytes, rdcc_w0,\n\u001b[1;32m    526\u001b[0m                      locking, page_buf_size, min_meta_keep, min_raw_keep,\n\u001b[1;32m    527\u001b[0m                      alignment_threshold\u001b[38;5;241m=\u001b[39malignment_threshold,\n\u001b[1;32m    528\u001b[0m                      alignment_interval\u001b[38;5;241m=\u001b[39malignment_interval,\n\u001b[1;32m    529\u001b[0m                      \u001b[38;5;241m*\u001b[39m\u001b[38;5;241m*\u001b[39mkwds)\n\u001b[1;32m    530\u001b[0m     fcpl \u001b[38;5;241m=\u001b[39m make_fcpl(track_order\u001b[38;5;241m=\u001b[39mtrack_order, fs_strategy\u001b[38;5;241m=\u001b[39mfs_strategy,\n\u001b[1;32m    531\u001b[0m                      fs_persist\u001b[38;5;241m=\u001b[39mfs_persist, fs_threshold\u001b[38;5;241m=\u001b[39mfs_threshold,\n\u001b[1;32m    532\u001b[0m                      fs_page_size\u001b[38;5;241m=\u001b[39mfs_page_size)\n\u001b[1;32m    533\u001b[0m     fid \u001b[38;5;241m=\u001b[39m make_fid(name, mode, userblock_size, fapl, fcpl, swmr\u001b[38;5;241m=\u001b[39mswmr)\n",
      "File \u001b[0;32m~/anaconda3/lib/python3.11/site-packages/h5py/_hl/files.py:172\u001b[0m, in \u001b[0;36mmake_fapl\u001b[0;34m(driver, libver, rdcc_nslots, rdcc_nbytes, rdcc_w0, locking, page_buf_size, min_meta_keep, min_raw_keep, alignment_threshold, alignment_interval, **kwds)\u001b[0m\n\u001b[1;32m    170\u001b[0m     \u001b[38;5;28;01mraise\u001b[39;00m \u001b[38;5;167;01mValueError\u001b[39;00m(\u001b[38;5;124m'\u001b[39m\u001b[38;5;124mUnknown driver type \u001b[39m\u001b[38;5;124m\"\u001b[39m\u001b[38;5;132;01m%s\u001b[39;00m\u001b[38;5;124m\"\u001b[39m\u001b[38;5;124m'\u001b[39m \u001b[38;5;241m%\u001b[39m driver)\n\u001b[1;32m    171\u001b[0m \u001b[38;5;28;01melse\u001b[39;00m:\n\u001b[0;32m--> 172\u001b[0m     set_fapl(plist, \u001b[38;5;241m*\u001b[39m\u001b[38;5;241m*\u001b[39mkwds)\n\u001b[1;32m    174\u001b[0m \u001b[38;5;28;01mreturn\u001b[39;00m plist\n",
      "File \u001b[0;32m~/anaconda3/lib/python3.11/site-packages/h5py/_hl/files.py:53\u001b[0m, in \u001b[0;36m_set_fapl_mpio\u001b[0;34m(plist, **kwargs)\u001b[0m\n\u001b[1;32m     51\u001b[0m \u001b[38;5;250m\u001b[39m\u001b[38;5;124;03m\"\"\"Set file access property list for mpio driver\"\"\"\u001b[39;00m\n\u001b[1;32m     52\u001b[0m \u001b[38;5;28;01mif\u001b[39;00m \u001b[38;5;129;01mnot\u001b[39;00m mpi:\n\u001b[0;32m---> 53\u001b[0m     \u001b[38;5;28;01mraise\u001b[39;00m \u001b[38;5;167;01mValueError\u001b[39;00m(\u001b[38;5;124m\"\u001b[39m\u001b[38;5;124mh5py was built without MPI support, can\u001b[39m\u001b[38;5;124m'\u001b[39m\u001b[38;5;124mt use mpio driver\u001b[39m\u001b[38;5;124m\"\u001b[39m)\n\u001b[1;32m     55\u001b[0m \u001b[38;5;28;01mimport\u001b[39;00m \u001b[38;5;21;01mmpi4py\u001b[39;00m\u001b[38;5;21;01m.\u001b[39;00m\u001b[38;5;21;01mMPI\u001b[39;00m\n\u001b[1;32m     56\u001b[0m kwargs\u001b[38;5;241m.\u001b[39msetdefault(\u001b[38;5;124m'\u001b[39m\u001b[38;5;124minfo\u001b[39m\u001b[38;5;124m'\u001b[39m, mpi4py\u001b[38;5;241m.\u001b[39mMPI\u001b[38;5;241m.\u001b[39mInfo())\n",
      "\u001b[0;31mValueError\u001b[0m: h5py was built without MPI support, can't use mpio driver"
     ]
    }
   ],
   "source": [
    "f_h5 = h5py.File(os.path.join(filename), 'r',\n",
    "                    driver='mpio', comm=MPI.COMM_WORLD)\n",
    "h5iter = H5Iter()\n",
    "f_h5.visititems(h5iter)\n",
    "corpus = h5iter.corpus\n",
    "f_h5.close()"
   ]
  },
  {
   "cell_type": "code",
   "execution_count": 1,
   "metadata": {},
   "outputs": [
    {
     "ename": "ModuleNotFoundError",
     "evalue": "No module named 'h5py'",
     "output_type": "error",
     "traceback": [
      "\u001b[0;31m---------------------------------------------------------------------------\u001b[0m",
      "\u001b[0;31mModuleNotFoundError\u001b[0m                       Traceback (most recent call last)",
      "Cell \u001b[0;32mIn[1], line 1\u001b[0m\n\u001b[0;32m----> 1\u001b[0m \u001b[38;5;28;01mimport\u001b[39;00m \u001b[38;5;21;01mh5py\u001b[39;00m\n\u001b[1;32m      2\u001b[0m \u001b[38;5;28mprint\u001b[39m(h5py\u001b[38;5;241m.\u001b[39mget_config()\u001b[38;5;241m.\u001b[39mmpi)\n",
      "\u001b[0;31mModuleNotFoundError\u001b[0m: No module named 'h5py'"
     ]
    }
   ],
   "source": [
    "import h5py\n",
    "print(h5py.get_config().mpi)\n"
   ]
  }
 ],
 "metadata": {
  "kernelspec": {
   "display_name": "base",
   "language": "python",
   "name": "python3"
  },
  "language_info": {
   "codemirror_mode": {
    "name": "ipython",
    "version": 3
   },
   "file_extension": ".py",
   "mimetype": "text/x-python",
   "name": "python",
   "nbconvert_exporter": "python",
   "pygments_lexer": "ipython3",
   "version": "3.11.8"
  }
 },
 "nbformat": 4,
 "nbformat_minor": 2
}
